{
  "nbformat": 4,
  "nbformat_minor": 0,
  "metadata": {
    "colab": {
      "provenance": []
    },
    "kernelspec": {
      "name": "python3",
      "display_name": "Python 3"
    },
    "language_info": {
      "name": "python"
    }
  },
  "cells": [
    {
      "cell_type": "markdown",
      "source": [
        "# Ejercicios 3 y 4"
      ],
      "metadata": {
        "id": "z3__KFe6qTxe"
      }
    },
    {
      "cell_type": "code",
      "source": [
        "import numpy as np"
      ],
      "metadata": {
        "id": "ExoBaT42G9RA"
      },
      "execution_count": 2,
      "outputs": []
    },
    {
      "cell_type": "code",
      "execution_count": 3,
      "metadata": {
        "id": "fTGjvLMI69MX"
      },
      "outputs": [],
      "source": [
        "def euler_method(f, t_span, y0, h):\n",
        "    # Rango de tiempo\n",
        "    t_start, t_end = t_span\n",
        "\n",
        "    # Valores de tiempo\n",
        "    t_values = np.arange(t_start, t_end + h, h)\n",
        "\n",
        "    # Inicializar y\n",
        "    y_values = np.zeros(len(t_values))\n",
        "    y_values[0] = y0\n",
        "\n",
        "    # Calcular y\n",
        "    for i in range(len(t_values) - 1):\n",
        "        y_values[i + 1] = y_values[i] + h * f(t_values[i], y_values[i])\n",
        "\n",
        "    # Retornar resultados\n",
        "    return t_values, y_values"
      ]
    },
    {
      "cell_type": "code",
      "source": [
        "# Ejercicio 3 literal a\n",
        "# Define la función f(t, y) para la ecuación diferencial\n",
        "def f(t, y):\n",
        "  return y/t - (y/t)**2\n",
        "\n",
        "# Define el intervalo de tiempo, el valor inicial y el tamaño del paso\n",
        "t_span = (1, 2)\n",
        "y0 = 1\n",
        "h = 0.1\n",
        "\n",
        "# Usa el método de Euler para aproximar la solución\n",
        "t_values, y_values = euler_method(f, t_span, y0, h)\n",
        "\n",
        "# Imprime los resultados\n",
        "print(\"t\\ty\")\n",
        "for i in range(len(t_values)):\n",
        "  print(f\"{t_values[i]:.1f}\\t{y_values[i]:.4f}\")"
      ],
      "metadata": {
        "colab": {
          "base_uri": "https://localhost:8080/"
        },
        "id": "4VCictcIG_7M",
        "outputId": "efde2ce8-3835-48b3-8b99-7d3f624c313e"
      },
      "execution_count": 4,
      "outputs": [
        {
          "output_type": "stream",
          "name": "stdout",
          "text": [
            "t\ty\n",
            "1.0\t1.0000\n",
            "1.1\t1.0000\n",
            "1.2\t1.0083\n",
            "1.3\t1.0217\n",
            "1.4\t1.0385\n",
            "1.5\t1.0577\n",
            "1.6\t1.0785\n",
            "1.7\t1.1004\n",
            "1.8\t1.1233\n",
            "1.9\t1.1467\n",
            "2.0\t1.1707\n"
          ]
        }
      ]
    },
    {
      "cell_type": "code",
      "source": [
        "import numpy as np\n",
        "def f(t, y):\n",
        "  return t / (1 + np.log(t))\n",
        "\n",
        "# Define el intervalo de tiempo, el valor inicial y el tamaño del paso\n",
        "t_span = (1, 2)\n",
        "y0 = 1\n",
        "h = 0.1\n",
        "\n",
        "# Usa el método de Euler para aproximar la solución\n",
        "t_values, y_values = euler_method(f, t_span, y0, h)\n",
        "\n",
        "# Imprime los resultados\n",
        "print(\"t\\ty\")\n",
        "for i in range(len(t_values)):\n",
        "  print(f\"{t_values[i]:.1f}\\t{y_values[i]:.4f}\")"
      ],
      "metadata": {
        "colab": {
          "base_uri": "https://localhost:8080/"
        },
        "id": "P4rc9XPuX7y8",
        "outputId": "74f7664d-7e43-4f98-d700-244263e21f23"
      },
      "execution_count": 5,
      "outputs": [
        {
          "output_type": "stream",
          "name": "stdout",
          "text": [
            "t\ty\n",
            "1.0\t1.0000\n",
            "1.1\t1.1000\n",
            "1.2\t1.2004\n",
            "1.3\t1.3019\n",
            "1.4\t1.4049\n",
            "1.5\t1.5097\n",
            "1.6\t1.6164\n",
            "1.7\t1.7252\n",
            "1.8\t1.8363\n",
            "1.9\t1.9497\n",
            "2.0\t2.0654\n"
          ]
        }
      ]
    },
    {
      "cell_type": "code",
      "source": [
        "# Ejercicio 3 literal b\n",
        "# Función f(t, y)\n",
        "def f(t, y):\n",
        "  return 1 + y/t + (y/t)**2\n",
        "\n",
        "t_span = (1, 3)\n",
        "y0 = 0\n",
        "h = 0.2\n",
        "t_values, y_values = euler_method(f, t_span, y0, h)\n",
        "\n",
        "# Imprime los resultados\n",
        "print(\"t\\ty\")\n",
        "for i in range(len(t_values)):\n",
        "  print(f\"{t_values[i]:.1f}\\t{y_values[i]:.4f}\")"
      ],
      "metadata": {
        "colab": {
          "base_uri": "https://localhost:8080/"
        },
        "id": "VH9x6yMzHNF3",
        "outputId": "2af9a50b-2ede-41c0-c7b7-50313703ed43"
      },
      "execution_count": 6,
      "outputs": [
        {
          "output_type": "stream",
          "name": "stdout",
          "text": [
            "t\ty\n",
            "1.0\t0.0000\n",
            "1.2\t0.2000\n",
            "1.4\t0.4389\n",
            "1.6\t0.7212\n",
            "1.8\t1.0520\n",
            "2.0\t1.4373\n",
            "2.2\t1.8843\n",
            "2.4\t2.4023\n",
            "2.6\t3.0028\n",
            "2.8\t3.7006\n",
            "3.0\t4.5143\n"
          ]
        }
      ]
    },
    {
      "cell_type": "code",
      "source": [
        "import numpy as n\n",
        "def f(t, y):\n",
        "  return t * n.tan(n.log(t))\n",
        "\n",
        "t_span = (1, 3)\n",
        "y0 = 0\n",
        "h = 0.2\n",
        "t_values, y_values = euler_method(f, t_span, y0, h)\n",
        "\n",
        "# Imprime los resultados\n",
        "print(\"t\\ty\")\n",
        "for i in range(len(t_values)):\n",
        "  print(f\"{t_values[i]:.1f}\\t{y_values[i]:.4f}\")"
      ],
      "metadata": {
        "colab": {
          "base_uri": "https://localhost:8080/"
        },
        "id": "MRIiSWZoafVj",
        "outputId": "657adba0-2545-4fb7-9116-08a4a54d334f"
      },
      "execution_count": 7,
      "outputs": [
        {
          "output_type": "stream",
          "name": "stdout",
          "text": [
            "t\ty\n",
            "1.0\t0.0000\n",
            "1.2\t0.0000\n",
            "1.4\t0.0442\n",
            "1.6\t0.1422\n",
            "1.8\t0.3047\n",
            "2.0\t0.5446\n",
            "2.2\t0.8769\n",
            "2.4\t1.3196\n",
            "2.6\t1.8949\n",
            "2.8\t2.6306\n",
            "3.0\t3.5623\n"
          ]
        }
      ]
    },
    {
      "cell_type": "code",
      "source": [
        "# Ejercicio 3 literal c\n",
        "# Función f(t, y)\n",
        "def f(t, y):\n",
        "  return - (y + 1) * (y + 3)\n",
        "\n",
        "t_span = (0, 2)\n",
        "y1 = -2\n",
        "h = 0.2\n",
        "t_values, y_values = euler_method(f, t_span, y1, h)\n",
        "\n",
        "# Imprime los resultados\n",
        "print(\"t\\ty\")\n",
        "for i in range(len(t_values)):\n",
        "  print(f\"{t_values[i]:.1f}\\t{y_values[i]:.4f}\")"
      ],
      "metadata": {
        "colab": {
          "base_uri": "https://localhost:8080/"
        },
        "id": "ta5bu6vEIVAQ",
        "outputId": "9b1fe9c6-e3a1-4720-d564-915d1f14245d"
      },
      "execution_count": 10,
      "outputs": [
        {
          "output_type": "stream",
          "name": "stdout",
          "text": [
            "t\ty\n",
            "0.0\t-2.0000\n",
            "0.2\t-1.8000\n",
            "0.4\t-1.6080\n",
            "0.6\t-1.4387\n",
            "0.8\t-1.3017\n",
            "1.0\t-1.1993\n",
            "1.2\t-1.1275\n",
            "1.4\t-1.0797\n",
            "1.6\t-1.0491\n",
            "1.8\t-1.0300\n",
            "2.0\t-1.0182\n"
          ]
        }
      ]
    },
    {
      "cell_type": "code",
      "source": [
        "import numpy as np\n",
        "def f(t, y):\n",
        "  return -3 + 2 / (1 + np.exp(-2 * t))\n",
        "\n",
        "t_span = (0, 2)\n",
        "y1 = -2\n",
        "h = 0.2\n",
        "t_values, y_values = euler_method(f, t_span, y1, h)\n",
        "\n",
        "# Imprime los resultados\n",
        "print(\"t\\ty\")\n",
        "for i in range(len(t_values)):\n",
        "  print(f\"{t_values[i]:.1f}\\t{y_values[i]:.4f}\")"
      ],
      "metadata": {
        "colab": {
          "base_uri": "https://localhost:8080/"
        },
        "id": "uXtkk8aqm0F3",
        "outputId": "7e6d70ad-a03a-4b85-edc6-4b931fd74b28"
      },
      "execution_count": 11,
      "outputs": [
        {
          "output_type": "stream",
          "name": "stdout",
          "text": [
            "t\ty\n",
            "0.0\t-2.0000\n",
            "0.2\t-2.4000\n",
            "0.4\t-2.7605\n",
            "0.6\t-3.0845\n",
            "0.8\t-3.3771\n",
            "1.0\t-3.6443\n",
            "1.2\t-3.8920\n",
            "1.4\t-4.1253\n",
            "1.6\t-4.3482\n",
            "1.8\t-4.5639\n",
            "2.0\t-4.7745\n"
          ]
        }
      ]
    },
    {
      "cell_type": "code",
      "source": [
        "# Ejercicio 3 literal d\n",
        "# Función f(t, y)\n",
        "def f(t, y):\n",
        "  return -5 * y + 5 * t ** 2 + 2 * t\n",
        "\n",
        "t_span = (0, 1)\n",
        "y0 = 1/3\n",
        "h = 0.1\n",
        "t_values, y_values = euler_method(f, t_span, y0, h)\n",
        "\n",
        "# Imprime los resultados\n",
        "print(\"t\\ty\")\n",
        "for i in range(len(t_values)):\n",
        "  print(f\"{t_values[i]:.1f}\\t{y_values[i]:.4f}\")"
      ],
      "metadata": {
        "colab": {
          "base_uri": "https://localhost:8080/"
        },
        "id": "PJMMqGUoI5hX",
        "outputId": "3414b7c9-7c73-47f9-9fa9-30e36dc67ab4"
      },
      "execution_count": 12,
      "outputs": [
        {
          "output_type": "stream",
          "name": "stdout",
          "text": [
            "t\ty\n",
            "0.0\t0.3333\n",
            "0.1\t0.1667\n",
            "0.2\t0.1083\n",
            "0.3\t0.1142\n",
            "0.4\t0.1621\n",
            "0.5\t0.2410\n",
            "0.6\t0.3455\n",
            "0.7\t0.4728\n",
            "0.8\t0.6214\n",
            "0.9\t0.7907\n",
            "1.0\t0.9803\n"
          ]
        }
      ]
    },
    {
      "cell_type": "code",
      "source": [
        "import numpy as np\n",
        "def f(t, y):\n",
        "  return t**2 + (1/3) * np.exp(-5*t)\n",
        "\n",
        "t_span = (0, 1)\n",
        "y0 = 1/3\n",
        "h = 0.1\n",
        "t_values, y_values = euler_method(f, t_span, y0, h)\n",
        "\n",
        "# Imprime los resultados\n",
        "print(\"t\\ty\")\n",
        "for i in range(len(t_values)):\n",
        "  print(f\"{t_values[i]:.1f}\\t{y_values[i]:.4f}\")"
      ],
      "metadata": {
        "colab": {
          "base_uri": "https://localhost:8080/"
        },
        "id": "cERsS9UcpO_S",
        "outputId": "03122672-08ea-44ac-9a41-3c359569ce87"
      },
      "execution_count": 13,
      "outputs": [
        {
          "output_type": "stream",
          "name": "stdout",
          "text": [
            "t\ty\n",
            "0.0\t0.3333\n",
            "0.1\t0.3667\n",
            "0.2\t0.3879\n",
            "0.3\t0.4041\n",
            "0.4\t0.4206\n",
            "0.5\t0.4411\n",
            "0.6\t0.4688\n",
            "0.7\t0.5065\n",
            "0.8\t0.5565\n",
            "0.9\t0.6211\n",
            "1.0\t0.7025\n"
          ]
        }
      ]
    }
  ]
}