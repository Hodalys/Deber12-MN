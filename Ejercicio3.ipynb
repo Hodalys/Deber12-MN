{
  "nbformat": 4,
  "nbformat_minor": 0,
  "metadata": {
    "colab": {
      "provenance": []
    },
    "kernelspec": {
      "name": "python3",
      "display_name": "Python 3"
    },
    "language_info": {
      "name": "python"
    }
  },
  "cells": [
    {
      "cell_type": "code",
      "source": [
        "import numpy as np"
      ],
      "metadata": {
        "id": "ExoBaT42G9RA"
      },
      "execution_count": 9,
      "outputs": []
    },
    {
      "cell_type": "code",
      "execution_count": 14,
      "metadata": {
        "id": "fTGjvLMI69MX"
      },
      "outputs": [],
      "source": [
        "def euler_method(f, t_span, y0, h):\n",
        "    # Rango de tiempo\n",
        "    t_start, t_end = t_span\n",
        "\n",
        "    # Valores de tiempo\n",
        "    t_values = np.arange(t_start, t_end + h, h)\n",
        "\n",
        "    # Inicializar y\n",
        "    y_values = np.zeros(len(t_values))\n",
        "    y_values[0] = y0\n",
        "\n",
        "    # Calcular y\n",
        "    for i in range(len(t_values) - 1):\n",
        "        y_values[i + 1] = y_values[i] + h * f(t_values[i], y_values[i])\n",
        "\n",
        "    # Retornar resultados\n",
        "    return t_values, y_values"
      ]
    },
    {
      "cell_type": "code",
      "source": [
        "# Ejercicio 3 literal a\n",
        "# Define la función f(t, y) para la ecuación diferencial\n",
        "def f(t, y):\n",
        "  return y / t - (y / t)**2\n",
        "\n",
        "# Define el intervalo de tiempo, el valor inicial y el tamaño del paso\n",
        "t_span = (1, 2)\n",
        "y1 = 1\n",
        "h = 0.1\n",
        "\n",
        "# Usa el método de Euler para aproximar la solución\n",
        "t_values, y_values = euler_method(f, t_span, y1, h)\n",
        "\n",
        "# Imprime los resultados\n",
        "print(\"t\\ty\")\n",
        "for i in range(len(t_values)):\n",
        "  print(f\"{t_values[i]:.1f}\\t{y_values[i]:.4f}\")"
      ],
      "metadata": {
        "colab": {
          "base_uri": "https://localhost:8080/"
        },
        "id": "4VCictcIG_7M",
        "outputId": "8428dabb-ecf2-4f40-8422-c24bcff488c6"
      },
      "execution_count": 16,
      "outputs": [
        {
          "output_type": "stream",
          "name": "stdout",
          "text": [
            "t\ty\n",
            "1.0\t1.0000\n",
            "1.1\t1.0000\n",
            "1.2\t1.0083\n",
            "1.3\t1.0217\n",
            "1.4\t1.0385\n",
            "1.5\t1.0577\n",
            "1.6\t1.0785\n",
            "1.7\t1.1004\n",
            "1.8\t1.1233\n",
            "1.9\t1.1467\n",
            "2.0\t1.1707\n"
          ]
        }
      ]
    },
    {
      "cell_type": "code",
      "source": [
        "# Ejercicio 3 literal b\n",
        "# Función f(t, y)\n",
        "def f(t, y):\n",
        "  return 1 + y / t + (y / t)**2\n",
        "\n",
        "t_span = (1, 3)\n",
        "y1 = 0\n",
        "h = 0.2\n",
        "t_values, y_values = euler_method(f, t_span, y1, h)\n",
        "\n",
        "# Imprime los resultados\n",
        "print(\"t\\ty\")\n",
        "for i in range(len(t_values)):\n",
        "  print(f\"{t_values[i]:.1f}\\t{y_values[i]:.4f}\")"
      ],
      "metadata": {
        "colab": {
          "base_uri": "https://localhost:8080/"
        },
        "id": "VH9x6yMzHNF3",
        "outputId": "0e566ca6-d3f6-4748-ef5e-bf4344ca14e4"
      },
      "execution_count": 17,
      "outputs": [
        {
          "output_type": "stream",
          "name": "stdout",
          "text": [
            "t\ty\n",
            "1.0\t0.0000\n",
            "1.2\t0.2000\n",
            "1.4\t0.4389\n",
            "1.6\t0.7212\n",
            "1.8\t1.0520\n",
            "2.0\t1.4373\n",
            "2.2\t1.8843\n",
            "2.4\t2.4023\n",
            "2.6\t3.0028\n",
            "2.8\t3.7006\n",
            "3.0\t4.5143\n"
          ]
        }
      ]
    },
    {
      "cell_type": "code",
      "source": [
        "# Ejercicio 3 literal c\n",
        "# Función f(t, y)\n",
        "def f(t, y):\n",
        "  return -(y + 1) * (y + 3)\n",
        "\n",
        "t_span = (0, 2)\n",
        "y1 = 0\n",
        "h = 0.2\n",
        "t_values, y_values = euler_method(f, t_span, y1, h)\n",
        "\n",
        "# Imprime los resultados\n",
        "print(\"t\\ty\")\n",
        "for i in range(len(t_values)):\n",
        "  print(f\"{t_values[i]:.1f}\\t{y_values[i]:.4f}\")"
      ],
      "metadata": {
        "colab": {
          "base_uri": "https://localhost:8080/"
        },
        "id": "ta5bu6vEIVAQ",
        "outputId": "06682b31-fcf4-4a92-85fc-e76502edae20"
      },
      "execution_count": 20,
      "outputs": [
        {
          "output_type": "stream",
          "name": "stdout",
          "text": [
            "t\ty\n",
            "0.0\t0.0000\n",
            "0.2\t-0.6000\n",
            "0.4\t-0.7920\n",
            "0.6\t-0.8839\n",
            "0.8\t-0.9330\n",
            "1.0\t-0.9607\n",
            "1.2\t-0.9767\n",
            "1.4\t-0.9861\n",
            "1.6\t-0.9917\n",
            "1.8\t-0.9950\n",
            "2.0\t-0.9970\n"
          ]
        }
      ]
    },
    {
      "cell_type": "code",
      "source": [
        "# Ejercicio 3 literal d\n",
        "# Función f(t, y)\n",
        "def f(t, y):\n",
        "  return -5 * y + 5 * t ** 2 + 2 * t\n",
        "\n",
        "t_span = (0, 1)\n",
        "y0 = 1/3\n",
        "h = 0.1\n",
        "t_values, y_values = euler_method(f, t_span, y0, h)\n",
        "\n",
        "# Imprime los resultados\n",
        "print(\"t\\ty\")\n",
        "for i in range(len(t_values)):\n",
        "  print(f\"{t_values[i]:.1f}\\t{y_values[i]:.4f}\")"
      ],
      "metadata": {
        "colab": {
          "base_uri": "https://localhost:8080/"
        },
        "id": "PJMMqGUoI5hX",
        "outputId": "197c54b6-77f5-48c5-f1a2-8ce3c2ea85d8"
      },
      "execution_count": 21,
      "outputs": [
        {
          "output_type": "stream",
          "name": "stdout",
          "text": [
            "t\ty\n",
            "0.0\t0.3333\n",
            "0.1\t0.1667\n",
            "0.2\t0.1083\n",
            "0.3\t0.1142\n",
            "0.4\t0.1621\n",
            "0.5\t0.2410\n",
            "0.6\t0.3455\n",
            "0.7\t0.4728\n",
            "0.8\t0.6214\n",
            "0.9\t0.7907\n",
            "1.0\t0.9803\n"
          ]
        }
      ]
    }
  ]
}